{
 "cells": [
  {
   "cell_type": "code",
   "execution_count": 12,
   "id": "ae418e61-4faf-440f-a3ee-3bc2aa52d7a1",
   "metadata": {},
   "outputs": [],
   "source": [
    "import matplotlib.pyplot as plt\n",
    "\n",
    "from sklearn.model_selection import train_test_split\n",
    "from sklearn.neighbors import KNeighborsClassifier\n",
    "\n",
    "# 이미지 불러오는 라이브러리\n",
    "import os\n",
    "import cv2"
   ]
  },
  {
   "cell_type": "code",
   "execution_count": 9,
   "id": "04c3018c-dcd9-42aa-a1ee-f532bed5666c",
   "metadata": {},
   "outputs": [],
   "source": [
    "path = \"Y:/home/car_hyuncheol/deep_learning 세미나/data/Biometry_20200722/AC/train/image\"\n",
    "files = os.listdir(path)\n",
    "len(files)"
   ]
  },
  {
   "cell_type": "code",
   "execution_count": null,
   "id": "df441ed9-60ab-457e-aa29-08dc89097432",
   "metadata": {},
   "outputs": [],
   "source": []
  },
  {
   "cell_type": "code",
   "execution_count": null,
   "id": "43d9ab8f-92bc-499a-8b29-7d9da7405658",
   "metadata": {},
   "outputs": [],
   "source": [
    "# dataset split\n",
    "\n",
    "train_data = \n"
   ]
  }
 ],
 "metadata": {
  "kernelspec": {
   "display_name": "Python 3 (ipykernel)",
   "language": "python",
   "name": "python3"
  },
  "language_info": {
   "codemirror_mode": {
    "name": "ipython",
    "version": 3
   },
   "file_extension": ".py",
   "mimetype": "text/x-python",
   "name": "python",
   "nbconvert_exporter": "python",
   "pygments_lexer": "ipython3",
   "version": "3.9.13"
  }
 },
 "nbformat": 4,
 "nbformat_minor": 5
}

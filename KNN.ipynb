{
 "cells": [
  {
   "cell_type": "markdown",
   "id": "dc769191-3d27-47a6-b8af-1bce9cff8fb3",
   "metadata": {},
   "source": [
    "# KNN 알고리즘"
   ]
  },
  {
   "cell_type": "code",
   "execution_count": 35,
   "id": "430ed9c0-a981-4b5c-a383-b39706945f57",
   "metadata": {},
   "outputs": [],
   "source": [
    "import matplotlib.pyplot as plt\n",
    "import pandas as pd\n",
    "import numpy as np\n",
    "\n",
    "from sklearn.model_selection import train_test_split\n",
    "from sklearn.neighbors import KNeighborsClassifier\n",
    "from sklearn.metrics import accuracy_score\n",
    "\n",
    "import os\n",
    "import cv2\n",
    "from PIL import Image"
   ]
  },
  {
   "cell_type": "markdown",
   "id": "efa5a28c-a881-44d3-b419-96aeb83a070a",
   "metadata": {},
   "source": [
    "### 데이터 불러오기"
   ]
  },
  {
   "cell_type": "code",
   "execution_count": 22,
   "id": "24b414b2-8ec3-44ed-ac33-bc6104b07cdb",
   "metadata": {
    "tags": []
   },
   "outputs": [],
   "source": [
    "# 데이터 불러오기\n",
    "train = []\n",
    "label = []\n",
    "label_name = [\"AC\", \"FL\", \"HC\", \"HUM\"]\n",
    "\n",
    "img_size = (224, 224)\n",
    "\n",
    "for i in label_name:\n",
    "    forder = f\"C:/Users/JungHyeona/Desktop/KNN/{i}\"\n",
    "    \n",
    "    for j in os.listdir(forder):\n",
    "        if j.endswith('.png'):\n",
    "            file = os.path.join(forder, j)\n",
    "            \n",
    "            img = cv2.imread(file, cv2.IMREAD_UNCHANGED)\n",
    "            img_resize = cv2.resize(img, img_size)\n",
    "            fla = img_resize.flatten()\n",
    "            \n",
    "            train.append(fla)\n",
    "            label.append(i)"
   ]
  },
  {
   "cell_type": "code",
   "execution_count": 23,
   "id": "88d808da-6343-444b-bb4f-7709076e3ae8",
   "metadata": {},
   "outputs": [
    {
     "data": {
      "text/plain": [
       "['AC', 'AC', 'AC', 'AC', 'AC']"
      ]
     },
     "execution_count": 23,
     "metadata": {},
     "output_type": "execute_result"
    }
   ],
   "source": [
    "label[:5]"
   ]
  },
  {
   "cell_type": "code",
   "execution_count": 24,
   "id": "d40848ad-95f9-47fe-ba76-f66b1fd3b65c",
   "metadata": {},
   "outputs": [],
   "source": [
    "train = np.array(train)\n",
    "label = np.array(label)"
   ]
  },
  {
   "cell_type": "code",
   "execution_count": 25,
   "id": "0513e3ad-0015-4af5-ade7-bdad1223e7f1",
   "metadata": {},
   "outputs": [
    {
     "data": {
      "text/plain": [
       "array([[0, 0, 0, ..., 0, 0, 0],\n",
       "       [0, 0, 0, ..., 0, 0, 0],\n",
       "       [0, 0, 0, ..., 0, 0, 0],\n",
       "       ...,\n",
       "       [0, 0, 0, ..., 0, 0, 0],\n",
       "       [0, 0, 0, ..., 0, 0, 0],\n",
       "       [0, 0, 0, ..., 0, 0, 0]], dtype=uint8)"
      ]
     },
     "execution_count": 25,
     "metadata": {},
     "output_type": "execute_result"
    }
   ],
   "source": [
    "train"
   ]
  },
  {
   "cell_type": "code",
   "execution_count": 26,
   "id": "e89ec7c6-752a-4636-9d2d-d4ace8c69215",
   "metadata": {},
   "outputs": [
    {
     "data": {
      "text/plain": [
       "(1216, 150528)"
      ]
     },
     "execution_count": 26,
     "metadata": {},
     "output_type": "execute_result"
    }
   ],
   "source": [
    "train.shape"
   ]
  },
  {
   "cell_type": "code",
   "execution_count": 27,
   "id": "3e68a5de-38eb-4729-a9b4-c476c7379620",
   "metadata": {
    "tags": []
   },
   "outputs": [],
   "source": [
    "# 데이터 셋 train과 test로 분리\n",
    "\n",
    "X_train, X_test, Y_train, Y_test = train_test_split(train, label, test_size = 0.3)"
   ]
  },
  {
   "cell_type": "markdown",
   "id": "e86139fd-e84a-4a60-9a77-0cf65d6e418a",
   "metadata": {},
   "source": [
    "## KNN 모델 생성 및 실행"
   ]
  },
  {
   "cell_type": "code",
   "execution_count": 28,
   "id": "82b43a1c-064a-4f73-9978-af7a695e0ff1",
   "metadata": {},
   "outputs": [],
   "source": [
    "knn = KNeighborsClassifier(n_neighbors = 4)"
   ]
  },
  {
   "cell_type": "code",
   "execution_count": 31,
   "id": "dd49b714-d4b4-4f0f-a08a-334db7ab9574",
   "metadata": {
    "tags": []
   },
   "outputs": [
    {
     "data": {
      "text/plain": [
       "KNeighborsClassifier(n_neighbors=4)"
      ]
     },
     "execution_count": 31,
     "metadata": {},
     "output_type": "execute_result"
    }
   ],
   "source": [
    "knn.fit(X_train, Y_train)"
   ]
  },
  {
   "cell_type": "markdown",
   "id": "e6c84536-4daa-4095-a412-ecf210de53ae",
   "metadata": {},
   "source": [
    "## 모델 평가"
   ]
  },
  {
   "cell_type": "code",
   "execution_count": 36,
   "id": "74e40e7c-0f02-42ee-8575-9a8f5b3897bb",
   "metadata": {
    "tags": []
   },
   "outputs": [
    {
     "name": "stdout",
     "output_type": "stream",
     "text": [
      "Test Accuracy: 0.4821917808219178\n"
     ]
    },
    {
     "name": "stderr",
     "output_type": "stream",
     "text": [
      "C:\\Users\\JungHyeona\\anaconda3\\lib\\site-packages\\sklearn\\neighbors\\_classification.py:228: FutureWarning: Unlike other reduction functions (e.g. `skew`, `kurtosis`), the default behavior of `mode` typically preserves the axis it acts along. In SciPy 1.11.0, this behavior will change: the default value of `keepdims` will become False, the `axis` over which the statistic is taken will be eliminated, and the value None will no longer be accepted. Set `keepdims` to True or False to avoid this warning.\n",
      "  mode, _ = stats.mode(_y[neigh_ind, k], axis=1)\n"
     ]
    }
   ],
   "source": [
    "pred_labels = knn.predict(X_test)\n",
    "accuracy = accuracy_score(Y_test, pred_labels)\n",
    "\n",
    "print(\"Test Accuracy:\", accuracy)"
   ]
  },
  {
   "cell_type": "code",
   "execution_count": null,
   "id": "15207dcc-aede-4b32-98f8-4284110ea3f8",
   "metadata": {},
   "outputs": [],
   "source": []
  }
 ],
 "metadata": {
  "kernelspec": {
   "display_name": "Python 3 (ipykernel)",
   "language": "python",
   "name": "python3"
  },
  "language_info": {
   "codemirror_mode": {
    "name": "ipython",
    "version": 3
   },
   "file_extension": ".py",
   "mimetype": "text/x-python",
   "name": "python",
   "nbconvert_exporter": "python",
   "pygments_lexer": "ipython3",
   "version": "3.9.13"
  }
 },
 "nbformat": 4,
 "nbformat_minor": 5
}
